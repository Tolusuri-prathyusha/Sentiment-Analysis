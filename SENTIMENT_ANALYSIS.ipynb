{
 "cells": [
  {
   "cell_type": "code",
   "execution_count": 4,
   "metadata": {
    "id": "YniuuWj1TJC9"
   },
   "outputs": [],
   "source": [
    "import numpy as np\n",
    "import pandas as pd"
   ]
  },
  {
   "cell_type": "code",
   "execution_count": 5,
   "metadata": {
    "id": "pdSb0NSBTOFU"
   },
   "outputs": [],
   "source": [
    "data = pd.read_csv('amazon_alexa.tsv', delimiter='\\t' , quoting=3)\n"
   ]
  },
  {
   "cell_type": "code",
   "execution_count": 7,
   "metadata": {
    "colab": {
     "base_uri": "https://localhost:8080/"
    },
    "executionInfo": {
     "elapsed": 1879,
     "status": "ok",
     "timestamp": 1695393319721,
     "user": {
      "displayName": "Mukesh Raj Kotha",
      "userId": "03884101089893064650"
     },
     "user_tz": -330
    },
    "id": "hWEW4P-RTSiB",
    "outputId": "d5f6de59-217f-4e7c-9a60-da0f63524706"
   },
   "outputs": [
    {
     "data": {
      "text/plain": [
       "(3150, 5)"
      ]
     },
     "execution_count": 7,
     "metadata": {},
     "output_type": "execute_result"
    }
   ],
   "source": [
    "data.shape\n"
   ]
  },
  {
   "cell_type": "code",
   "execution_count": 8,
   "metadata": {
    "colab": {
     "base_uri": "https://localhost:8080/"
    },
    "executionInfo": {
     "elapsed": 13,
     "status": "ok",
     "timestamp": 1695393352301,
     "user": {
      "displayName": "Mukesh Raj Kotha",
      "userId": "03884101089893064650"
     },
     "user_tz": -330
    },
    "id": "jFCW8QFJUR-J",
    "outputId": "19156dcc-a566-4b47-d332-c7d8ff1a774d"
   },
   "outputs": [
    {
     "data": {
      "text/plain": [
       "Index(['rating', 'date', 'variation', 'verified_reviews', 'feedback'], dtype='object')"
      ]
     },
     "execution_count": 8,
     "metadata": {},
     "output_type": "execute_result"
    }
   ],
   "source": [
    "data.columns\n"
   ]
  },
  {
   "cell_type": "code",
   "execution_count": 9,
   "metadata": {
    "colab": {
     "base_uri": "https://localhost:8080/",
     "height": 206
    },
    "executionInfo": {
     "elapsed": 26,
     "status": "ok",
     "timestamp": 1695393450968,
     "user": {
      "displayName": "Mukesh Raj Kotha",
      "userId": "03884101089893064650"
     },
     "user_tz": -330
    },
    "id": "Ji9oj1c_UXuq",
    "outputId": "bb14851e-9bf8-409b-cc91-326f87cd8c0c"
   },
   "outputs": [
    {
     "data": {
      "text/html": [
       "<div>\n",
       "<style scoped>\n",
       "    .dataframe tbody tr th:only-of-type {\n",
       "        vertical-align: middle;\n",
       "    }\n",
       "\n",
       "    .dataframe tbody tr th {\n",
       "        vertical-align: top;\n",
       "    }\n",
       "\n",
       "    .dataframe thead th {\n",
       "        text-align: right;\n",
       "    }\n",
       "</style>\n",
       "<table border=\"1\" class=\"dataframe\">\n",
       "  <thead>\n",
       "    <tr style=\"text-align: right;\">\n",
       "      <th></th>\n",
       "      <th>rating</th>\n",
       "      <th>date</th>\n",
       "      <th>variation</th>\n",
       "      <th>verified_reviews</th>\n",
       "      <th>feedback</th>\n",
       "    </tr>\n",
       "  </thead>\n",
       "  <tbody>\n",
       "    <tr>\n",
       "      <th>0</th>\n",
       "      <td>5</td>\n",
       "      <td>31-Jul-18</td>\n",
       "      <td>Charcoal Fabric</td>\n",
       "      <td>Love my Echo!</td>\n",
       "      <td>1</td>\n",
       "    </tr>\n",
       "    <tr>\n",
       "      <th>1</th>\n",
       "      <td>5</td>\n",
       "      <td>31-Jul-18</td>\n",
       "      <td>Charcoal Fabric</td>\n",
       "      <td>Loved it!</td>\n",
       "      <td>1</td>\n",
       "    </tr>\n",
       "    <tr>\n",
       "      <th>2</th>\n",
       "      <td>4</td>\n",
       "      <td>31-Jul-18</td>\n",
       "      <td>Walnut Finish</td>\n",
       "      <td>\"Sometimes while playing a game, you can answe...</td>\n",
       "      <td>1</td>\n",
       "    </tr>\n",
       "    <tr>\n",
       "      <th>3</th>\n",
       "      <td>5</td>\n",
       "      <td>31-Jul-18</td>\n",
       "      <td>Charcoal Fabric</td>\n",
       "      <td>\"I have had a lot of fun with this thing. My 4...</td>\n",
       "      <td>1</td>\n",
       "    </tr>\n",
       "    <tr>\n",
       "      <th>4</th>\n",
       "      <td>5</td>\n",
       "      <td>31-Jul-18</td>\n",
       "      <td>Charcoal Fabric</td>\n",
       "      <td>Music</td>\n",
       "      <td>1</td>\n",
       "    </tr>\n",
       "  </tbody>\n",
       "</table>\n",
       "</div>"
      ],
      "text/plain": [
       "   rating       date         variation  \\\n",
       "0       5  31-Jul-18  Charcoal Fabric    \n",
       "1       5  31-Jul-18  Charcoal Fabric    \n",
       "2       4  31-Jul-18    Walnut Finish    \n",
       "3       5  31-Jul-18  Charcoal Fabric    \n",
       "4       5  31-Jul-18  Charcoal Fabric    \n",
       "\n",
       "                                    verified_reviews  feedback  \n",
       "0                                      Love my Echo!         1  \n",
       "1                                          Loved it!         1  \n",
       "2  \"Sometimes while playing a game, you can answe...         1  \n",
       "3  \"I have had a lot of fun with this thing. My 4...         1  \n",
       "4                                              Music         1  "
      ]
     },
     "execution_count": 9,
     "metadata": {},
     "output_type": "execute_result"
    }
   ],
   "source": [
    "data.head()"
   ]
  },
  {
   "cell_type": "code",
   "execution_count": 10,
   "metadata": {
    "colab": {
     "base_uri": "https://localhost:8080/"
    },
    "executionInfo": {
     "elapsed": 19,
     "status": "ok",
     "timestamp": 1695393450969,
     "user": {
      "displayName": "Mukesh Raj Kotha",
      "userId": "03884101089893064650"
     },
     "user_tz": -330
    },
    "id": "pldZ7zliUcTY",
    "outputId": "8c7156d9-0b6a-4c74-a01c-3f13437795ba"
   },
   "outputs": [
    {
     "data": {
      "text/plain": [
       "<bound method DataFrame.info of       rating       date         variation  \\\n",
       "0          5  31-Jul-18  Charcoal Fabric    \n",
       "1          5  31-Jul-18  Charcoal Fabric    \n",
       "2          4  31-Jul-18    Walnut Finish    \n",
       "3          5  31-Jul-18  Charcoal Fabric    \n",
       "4          5  31-Jul-18  Charcoal Fabric    \n",
       "...      ...        ...               ...   \n",
       "3145       5  30-Jul-18        Black  Dot   \n",
       "3146       5  30-Jul-18        Black  Dot   \n",
       "3147       5  30-Jul-18        Black  Dot   \n",
       "3148       5  30-Jul-18        White  Dot   \n",
       "3149       4  29-Jul-18        Black  Dot   \n",
       "\n",
       "                                       verified_reviews  feedback  \n",
       "0                                         Love my Echo!         1  \n",
       "1                                             Loved it!         1  \n",
       "2     \"Sometimes while playing a game, you can answe...         1  \n",
       "3     \"I have had a lot of fun with this thing. My 4...         1  \n",
       "4                                                 Music         1  \n",
       "...                                                 ...       ...  \n",
       "3145  \"Perfect for kids, adults and everyone in betw...         1  \n",
       "3146  \"Listening to music, searching locations, chec...         1  \n",
       "3147  \"I do love these things, i have them running m...         1  \n",
       "3148  \"Only complaint I have is that the sound quali...         1  \n",
       "3149                                               Good         1  \n",
       "\n",
       "[3150 rows x 5 columns]>"
      ]
     },
     "execution_count": 10,
     "metadata": {},
     "output_type": "execute_result"
    }
   ],
   "source": [
    "data.info"
   ]
  },
  {
   "cell_type": "code",
   "execution_count": 15,
   "metadata": {},
   "outputs": [],
   "source": [
    "#pip install nltk"
   ]
  },
  {
   "cell_type": "code",
   "execution_count": 18,
   "metadata": {},
   "outputs": [],
   "source": [
    "#pip install regex"
   ]
  },
  {
   "cell_type": "code",
   "execution_count": 19,
   "metadata": {
    "colab": {
     "base_uri": "https://localhost:8080/"
    },
    "executionInfo": {
     "elapsed": 2057,
     "status": "ok",
     "timestamp": 1695393479375,
     "user": {
      "displayName": "Mukesh Raj Kotha",
      "userId": "03884101089893064650"
     },
     "user_tz": -330
    },
    "id": "8ZF7ZsWcUeOj",
    "outputId": "9d7b62db-804b-4774-8736-7e93952e95f4"
   },
   "outputs": [
    {
     "name": "stderr",
     "output_type": "stream",
     "text": [
      "[nltk_data] Downloading package stopwords to\n",
      "[nltk_data]     C:\\Users\\Prath\\AppData\\Roaming\\nltk_data...\n",
      "[nltk_data]   Unzipping corpora\\stopwords.zip.\n"
     ]
    }
   ],
   "source": [
    "import nltk\n",
    "import re\n",
    "nltk.download('stopwords')\n",
    "from nltk.corpus import stopwords\n",
    "from nltk.stem.porter import PorterStemmer"
   ]
  },
  {
   "cell_type": "code",
   "execution_count": 21,
   "metadata": {
    "id": "N-I_ln9OUhEv"
   },
   "outputs": [
    {
     "ename": "TypeError",
     "evalue": "expected string or bytes-like object, got 'float'",
     "output_type": "error",
     "traceback": [
      "\u001b[1;31m---------------------------------------------------------------------------\u001b[0m",
      "\u001b[1;31mTypeError\u001b[0m                                 Traceback (most recent call last)",
      "Cell \u001b[1;32mIn[21], line 3\u001b[0m\n\u001b[0;32m      1\u001b[0m corpus \u001b[38;5;241m=\u001b[39m[]\n\u001b[0;32m      2\u001b[0m \u001b[38;5;28;01mfor\u001b[39;00m i \u001b[38;5;129;01min\u001b[39;00m \u001b[38;5;28mrange\u001b[39m(\u001b[38;5;241m0\u001b[39m,\u001b[38;5;241m1000\u001b[39m):\n\u001b[1;32m----> 3\u001b[0m    review \u001b[38;5;241m=\u001b[39mre\u001b[38;5;241m.\u001b[39msub(pattern\u001b[38;5;241m=\u001b[39m\u001b[38;5;124m'\u001b[39m\u001b[38;5;124m[^a-zA-Z]\u001b[39m\u001b[38;5;124m'\u001b[39m,repl\u001b[38;5;241m=\u001b[39m\u001b[38;5;124m'\u001b[39m\u001b[38;5;124m \u001b[39m\u001b[38;5;124m'\u001b[39m, string\u001b[38;5;241m=\u001b[39mdata[\u001b[38;5;124m'\u001b[39m\u001b[38;5;124mverified_reviews\u001b[39m\u001b[38;5;124m'\u001b[39m][i])\n\u001b[0;32m      5\u001b[0m    review \u001b[38;5;241m=\u001b[39m review\u001b[38;5;241m.\u001b[39mlower()\n\u001b[0;32m      6\u001b[0m    review_words \u001b[38;5;241m=\u001b[39m review\u001b[38;5;241m.\u001b[39msplit()\n",
      "File \u001b[1;32m~\\anaconda3\\Lib\\re\\__init__.py:185\u001b[0m, in \u001b[0;36msub\u001b[1;34m(pattern, repl, string, count, flags)\u001b[0m\n\u001b[0;32m    178\u001b[0m \u001b[38;5;28;01mdef\u001b[39;00m \u001b[38;5;21msub\u001b[39m(pattern, repl, string, count\u001b[38;5;241m=\u001b[39m\u001b[38;5;241m0\u001b[39m, flags\u001b[38;5;241m=\u001b[39m\u001b[38;5;241m0\u001b[39m):\n\u001b[0;32m    179\u001b[0m \u001b[38;5;250m    \u001b[39m\u001b[38;5;124;03m\"\"\"Return the string obtained by replacing the leftmost\u001b[39;00m\n\u001b[0;32m    180\u001b[0m \u001b[38;5;124;03m    non-overlapping occurrences of the pattern in string by the\u001b[39;00m\n\u001b[0;32m    181\u001b[0m \u001b[38;5;124;03m    replacement repl.  repl can be either a string or a callable;\u001b[39;00m\n\u001b[0;32m    182\u001b[0m \u001b[38;5;124;03m    if a string, backslash escapes in it are processed.  If it is\u001b[39;00m\n\u001b[0;32m    183\u001b[0m \u001b[38;5;124;03m    a callable, it's passed the Match object and must return\u001b[39;00m\n\u001b[0;32m    184\u001b[0m \u001b[38;5;124;03m    a replacement string to be used.\"\"\"\u001b[39;00m\n\u001b[1;32m--> 185\u001b[0m     \u001b[38;5;28;01mreturn\u001b[39;00m _compile(pattern, flags)\u001b[38;5;241m.\u001b[39msub(repl, string, count)\n",
      "\u001b[1;31mTypeError\u001b[0m: expected string or bytes-like object, got 'float'"
     ]
    }
   ],
   "source": [
    "corpus =[]\n",
    "for i in range(0,1000):\n",
    "   review =re.sub(pattern='[^a-zA-Z]',repl=' ', string=data['verified_reviews'][i])\n",
    "\n",
    "   review = review.lower()\n",
    "   review_words = review.split()\n",
    "   review_words = [word for word in review_words if not word in set(stopwords.words('english'))]\n",
    "\n",
    "   ps= PorterStemmer()\n",
    "   review =[ps.stem(word) for word in review_words]\n",
    "\n",
    "   review = ' '.join(review)\n",
    "   corpus.append(review)"
   ]
  },
  {
   "cell_type": "code",
   "execution_count": 22,
   "metadata": {
    "colab": {
     "base_uri": "https://localhost:8080/"
    },
    "executionInfo": {
     "elapsed": 11,
     "status": "ok",
     "timestamp": 1695393793020,
     "user": {
      "displayName": "Mukesh Raj Kotha",
      "userId": "03884101089893064650"
     },
     "user_tz": -330
    },
    "id": "bSgcdlGxUjMJ",
    "outputId": "499a46e5-ae03-4626-e5da-10a12bab2243"
   },
   "outputs": [
    {
     "data": {
      "text/plain": [
       "['love echo',\n",
       " 'love',\n",
       " 'sometim play game answer question correctli alexa say got wrong answer like abl turn light away home',\n",
       " 'lot fun thing yr old learn dinosaur control light play game like categori nice sound play music well',\n",
       " 'music',\n",
       " 'receiv echo gift need anoth bluetooth someth play music easili access found smart speaker wait see els',\n",
       " 'without cellphon cannot use mani featur ipad see use great alarm u r almost deaf hear alarm bedroom live room reason enough keep fun ask random question hear respons seem smartbon polit yet',\n",
       " 'think th one purchas work get one everi room hous realli like featur offer specifili play music echo control light throughout hous',\n",
       " 'look great',\n",
       " 'love listen song heard sinc childhood get news weather inform great',\n",
       " 'sent year old dad talk constantli',\n",
       " 'love learn knew thing eveyday still figur everyth work far easi use understand make laugh time',\n",
       " 'purchas mother knee problem give someth tri come get around fast like enjoy littl big thing alexa play song time cook',\n",
       " 'love love love',\n",
       " 'expect',\n",
       " 'love wife hate',\n",
       " 'realli happi purchas great speaker easi set',\n",
       " 'use alexa coupl day lot fun new toy like new household member tri learn differ featu benefit come',\n",
       " 'love size nd gener echo still need littl improv sound',\n",
       " 'like origin echo shorter greater fabric color choic miss volum ring top plu minu button big deal ring w comfort well like use standard usb charger port instead previou round pin guess sound seem work still answer alexa echo comput like',\n",
       " 'love echo good music sound play alexa understand command difficult time find specif playlist song spotifi good amazon music lack major program',\n",
       " 'love alexa use play music play radio itun play podcast anypod set remind listen flash brief news weather everi morn reli custom list like abl voic control volum sure continu find new use sometim bit frustrat alexa understand say',\n",
       " 'set day still ad smart home devic speaker great play music like size station kitchen counter intrus look',\n",
       " 'love play sleep sound immedi ask',\n",
       " 'got second unit bedroom expect sound improv didnt realli see differ overal big improv st gener',\n",
       " 'amaz product',\n",
       " 'love echo easi oper load fun everyth advertis use mainli play favorit tune test alexa knowledg',\n",
       " 'sound great love',\n",
       " 'fun item play get use use sometim hard time answer question ask think better',\n",
       " 'like one',\n",
       " 'still learn capabl far pretti pretti pretti good',\n",
       " 'like',\n",
       " 'work well need learn command uniqu owner user like alexa learn tasha birthday alexa learn definit fine etc great',\n",
       " 'speaker sound pretti good small setup pretti easi bought two reason rate follow instruct synch music unit know done correctli sync primari motiv purchas multipl unit',\n",
       " 'devic awesom',\n",
       " 'bought compar speaker qualiti first gener speaker like sound better ship daughter though like fact first gener chargeabl base bought keep mobil need better sound',\n",
       " 'love echo still learn thing abl follow instruct includ packag found great one u tube',\n",
       " 'speaker better st gener echo',\n",
       " 'thing way cool get one want cool',\n",
       " 'first digit assist give good review speaker realli good cheap price prime day fun play use alarm clock go get first place end echo go one definit tri like best number devic connect purchas came smart plug connect lamp alexa turn light',\n",
       " 'husband like abl use listen music wish knew capabl',\n",
       " 'android would allow alexa connect fortun sister appl cell hour tech support fix glitch run',\n",
       " 'far good',\n",
       " 'tri play certain broadway show like camelot give ne group camelot',\n",
       " 'great',\n",
       " 'satisfi echo alexa control light famili room wife listen jimmi buffet ask alexa',\n",
       " 'like siri fact siri answer accur alexa see real need household though good bargain prime day deal',\n",
       " 'love echo still learn everi thing work ton fun',\n",
       " 'love much',\n",
       " 'differ appl play specif list music must amazon spotifi plu prime etc account must pay play music star reason everyth els',\n",
       " 'excelent lo unico es que esta en espa ol',\n",
       " 'still learn use far echo great sound actual much better expect',\n",
       " 'work expect also good sound qualiti consid price sale featur',\n",
       " 'sound echo nd gener phenomen mention love alexa help',\n",
       " 'like googl better',\n",
       " 'let play learn get',\n",
       " 'work advertis easi setup still learn',\n",
       " 'great sound easi set',\n",
       " 'love alexa bought other friend',\n",
       " 'love echo purchas compani husband alexa great say name tell joke play favorit song',\n",
       " '',\n",
       " 'love abl listen music easili still learn featur avail',\n",
       " 'realli know could use devic use thing need overview',\n",
       " 'love wish built hub',\n",
       " 'use primarili play music work wonder still get use mani thing amazon sent sever tip sinc got thank help',\n",
       " 'easi set',\n",
       " 'fast respons amaz clear concis answer sound qualiti fantast still get use alexia usd echo full extent',\n",
       " 'need na na nana',\n",
       " 'everyth expect',\n",
       " 'love echo work like said would smart home cannot speak function everyth els good',\n",
       " 'great sound small packag easi set use fun',\n",
       " 'work sound great',\n",
       " 'sound amaz mani collect music',\n",
       " 'set',\n",
       " 'alway listen',\n",
       " 'awesom',\n",
       " 'bought control fio televis work well hope time control fio discov thing alexa play music ask great sound alexa play game play radio station play old time radio program like long ranger alexa mani app add abil day play madlib great fun also alexa control household applianc purchas alexa compat power strip control light fan tv compon look forward implement control also add alexa compon chosen music play room compon locat',\n",
       " 'speaker excel sound work perfectli',\n",
       " 'like',\n",
       " 'love everyth',\n",
       " 'littl nervou receiv new echo realli tech savvi found bit intimid first take long figur happi purchas think ad echo spot',\n",
       " 'like still learn use',\n",
       " 'great technolog believ speaker volum qualiti wonder wish bought anoth one',\n",
       " 'purchas echo dot husband father day use constantli hear qualiti sound echo nd gener brainer best gift ever',\n",
       " 'work fine',\n",
       " '',\n",
       " 'clear music',\n",
       " 'fun use good sound qualiti',\n",
       " 'echo work well abl sync amazon music devic',\n",
       " 'work great think amazon charg anoth cent unlimit music prime buy echo',\n",
       " 'alreadi echo dot echo even better fuller sound also setup let phone call made contact list great',\n",
       " 'speaker sound realli good',\n",
       " 'good sound work well',\n",
       " 'love alexa savvi support help patient',\n",
       " 'love think get one prime day discount offer could pass fun ask alexa play song group come playlist amazon prime music also connect iphon bluetooth play music pandora youtub video use alexa speaker fun ask alexa differ type question inform like weather news even time countri downsid limit data wifi plan alexa use burn play music',\n",
       " 'like far lot tri yet',\n",
       " 'love use strictli music great',\n",
       " 'love echo love size materi speaker qualiti hook one light easili work addit light thermostat next echo dot bedroom lot echo think traffic weather trivia etc',\n",
       " 'love',\n",
       " 'entir famili love alexa echo part famili',\n",
       " 'great fun get know function product wow famili fun homework help talk grandchildren also echo huge bonu wait learn',\n",
       " 'love',\n",
       " 'awesom thing love alexa',\n",
       " 'work exactli expect speaker great sound perfect classroom',\n",
       " 'love love new littl gadget made live much easier like person secretari live home hardli need cd anymor sinc alexa play everyth need go get alexa dot soon room thank',\n",
       " 'speaker surpris qualiti happi purchas',\n",
       " 'easi set work wonder love',\n",
       " 'realli impress sound qualiti play music devic bass sound almost like come bigger speaker prop amazon',\n",
       " 'still great product sound qualiti seem wors get wrong definit get use within hour definit feel like echo gen sound qualiti better besid great addit abl play bluetooth wifi even better',\n",
       " 'outlet work disappoint',\n",
       " 'great devic respons help',\n",
       " 'sound terribl u want good music get bose',\n",
       " 'like sound troubl paid extra money access million song sometim work ex alexa play italian song understand play opera tosca respons sorri',\n",
       " 'easi set use bad plug would nice take outsid oper batteri recharg',\n",
       " 'still learn way use real hit grandkid ask play music danc yr cute',\n",
       " 'star gener like product great ask like play music set timer make call reason rate sometim connect die echo stop play music show red ring seem connect issu overal great product',\n",
       " 'work great upgrad echo dot full size echo happier',\n",
       " 'alexa els say',\n",
       " 'upgrad lilttl echo dot happi sound',\n",
       " 'excel product set eas well',\n",
       " 'first gen echo sinc first came work well purchas nd gen prime day far happi seem improv speaker provid enhanc sound music',\n",
       " 'love echo smart speaker love volum clariti easi set wonder gift age',\n",
       " 'wonder product fast deliveri',\n",
       " 'initi harder set call tech knowledg work great',\n",
       " 'easi set famili love',\n",
       " 'great sound respons voic command',\n",
       " 'live long without echo get enjoy music style ask alexa go gread wireless love echo love alexa',\n",
       " 'cool product speaker sound good spotifi blast',\n",
       " 'much fun alexa love abl listen music across room busi someth els',\n",
       " 'far seem nice item pick voic understand without problem day ask turn music next room heard fine use listen music check weather done thing well',\n",
       " 'love echo',\n",
       " 'love help use rememb thing sleep ask anyth week still learn',\n",
       " 'better st gen everi way except one realli miss ring top volum control quicker easier grab top twist without look button find one press time also wish bass bit better great devic happi',\n",
       " 'love alexa',\n",
       " 'far like',\n",
       " 'thoroughli enjoy ecoo love read audiobook offic simpli open audiobook kindl continu elsewher wonder listen music mood book great set remind much',\n",
       " 'still love',\n",
       " 'love',\n",
       " 'love sound qualiti unit clear sound',\n",
       " 'listen talk radio morn turn light etc system excel job full hous sound system stream siriu',\n",
       " 'week still learn alexa learn process love music call time listen podcast radio station start keep shop list groceri list love search paper pencil get time temperatur great wait weather report sound good fussi woofer tweeter base etc echo fine afternoon go tri drop son get home go surpris',\n",
       " 'much featur',\n",
       " 'great sound qualiti great featur great product multi room music cool',\n",
       " 'cool',\n",
       " 'everyon echo two three bought echo qvc',\n",
       " 'annoy everyth show alexa abl download spend much time tri figur phrase machin may well look',\n",
       " 'alexa sinc begin accident spill water replac nd gener decid without echo setup easi work within minut',\n",
       " 'like abl tell alexia music want hear sometim troubl find song specif titl',\n",
       " 'like look better origin echo move old echo basement famili room nice sound',\n",
       " 'echo wonder still learn use music request somewhat limit',\n",
       " 'know half thing ask recogn sprinkler wifi control even though product detail say compat program chang wifi thermostat set match wifi router handi music player amazon music',\n",
       " 'love',\n",
       " 'awesom understand kid',\n",
       " 'pleasantli surpris sound qualiti mani featur nice easili hear particular artist hear book simpl command look forward explor option devic',\n",
       " 'met exceed expect easi set realli quick respons',\n",
       " 'like fact get kind music prime want request alexa like inform photo littl pamphlet wish includ connect tv etc command alexa realli love music',\n",
       " 'found way access echo thorough prime account think part top line video music etc also think setup app defin exampl music like well integr echo tri ask playlist echo sure even though set play list set also like fact word exact match playlist name never rememb like readi natur echo respond queri',\n",
       " 'great item ad audibl book make even better thank',\n",
       " 'prime day nd gen echo sale resist begin smart home set happier say alexa done amaz job connect smart devic thank control light smart plug tv etc troubl connect echo wifi phone app work perfectli fine let add skill routin smart devic timer much sound qualiti good enough sinc audiophil alexa hear voic even watch movi high volum design great modern definit add nice touch home chang cover like sale overal great addit home enabl mani possibl yet sure add alexa home',\n",
       " 'versatil fun',\n",
       " 'work great killer speaker wife son love',\n",
       " 'regret wait long purchas item surpris pleas sound qualiti',\n",
       " 'stop work week follow command realli fun work',\n",
       " 'far love work get thing set love groceri list app',\n",
       " 'perform pretti much expect disappoint provid terminolog need play variou kind music without subscrib amazon music servic understand music choic may limit without know ask cannot access music provid free along echo purchas chart show languag need use',\n",
       " 'easi set',\n",
       " 'like product except speaker high qualiti expect',\n",
       " 'great invest alexa help made laugh',\n",
       " 'yet anoth exho home love',\n",
       " 'love plan gender music big band jazz easi find local radio sound good stop voic command get phone call',\n",
       " 'good valu',\n",
       " 'super easi set love new echo',\n",
       " 'what like speaker ask alexa',\n",
       " 'best father day gift dad joke mom alexa one listen repeat stori go forward',\n",
       " 'great addit breakfast room kitchen tune inform instantli avail slowli learn featur',\n",
       " 'sound qualiti',\n",
       " 'sad joke worthless',\n",
       " 'entertain',\n",
       " 'good qualiti',\n",
       " 'work great sound great miss beat wish batteri better portabl',\n",
       " 'love till someon stole afford replac yet go',\n",
       " 'alexa rock',\n",
       " 'got gift love never would bought one allow play music amozon prime music worth also give new brief tell joke',\n",
       " '',\n",
       " 'mom bought echo dot repeat ask take one great told two day made take hour later could live life without amaz four larg speaker small echo dot return say go order alexa speaker go big get echo otherwis tou return two echo dot live without',\n",
       " 'love great product',\n",
       " 'easi set user friendli',\n",
       " 'realli disappoint alexa plug wall socket time fault check made assumpt compani technolog advanc amazon would sell product recharg batteri could return would appl music boom speaker give flexibl alexa',\n",
       " 'think nd gen sound good st aux could add extern speaker go get dot nd issu uniqu unit understand overrid default prevent play blue tooth speaker play group get delay use bt speaker unit heard abl play group use bt speaker',\n",
       " 'everyth',\n",
       " 'like interact ask question like ask setup schedul connect lamp',\n",
       " 'supberb sound definit worth extra money listen lot music',\n",
       " 'realli love amazon echo think sound qualiti great lot fun realli handi music get updat weather sport',\n",
       " 'love grandkid',\n",
       " 'far work well alway intuit link differ devic skill get hang',\n",
       " 'work advertis',\n",
       " 'love',\n",
       " 'love new addit hous speaker qualiti great love alexa two complaint suggest futur seri would better commun abil exampl smart light hous unless specifi kitchen light kitchen light prior command either respond say recogn may want alexa respond say thank afterward repeat alexa thank time respond husband know sound odd laugh mayb southern thing want alexa manner',\n",
       " 'like everyth music trivia game weather',\n",
       " 'describ receiv time like automat enrol music',\n",
       " 'great devic',\n",
       " 'own echo overa year new lack easi way increas decreas volum without tell increas decreas volum hard wife sinc english second languag born korea sound echo superb keep',\n",
       " 'love kitchen work well',\n",
       " 'nice impress wish say though',\n",
       " 'love product nice easi access much info',\n",
       " 'got great sound bass work time still hot miss recogn thing',\n",
       " 'still discov echo',\n",
       " 'amaz paroduct',\n",
       " 'good hear rang sound qualiti bit complic set quit understand lot even speak slowli clearli love flash brief featur interfac abod home secur system',\n",
       " 'speaker sound good',\n",
       " 'absolut love',\n",
       " 'best part product control thermostat light hous anyth dislik',\n",
       " 'thoroughli enjoy amazon echo instal easi use alexa app purchas kasa smart plug control live room light instal easi use kasa app sinqu right echo enjoy play music echo sound qualiti awesom ad kasa smart bulb kitchen setup seamless look forward ad autom home',\n",
       " 'home entertain',\n",
       " 'cool product easi setup fun use sound qualiti much better anticip',\n",
       " 'love great sound easi connect use',\n",
       " 'work fairli new smart tv mainli tv manufactur lg fault due support anyth older tv year smart lock also need addit piec equip order connect well speaker sound great work well',\n",
       " 'great sound littl speaker',\n",
       " 'enjoy',\n",
       " '',\n",
       " 'cool',\n",
       " 'good qualiti great sound qualiti',\n",
       " 'work perfectli',\n",
       " 'great product sometim alexa understand command fire tv fabul speaker',\n",
       " 'love echo great sound smart',\n",
       " 'sure love',\n",
       " 'play great',\n",
       " 'work absolut great',\n",
       " 'amaz product great sound qualiti',\n",
       " 'best thing invest thank much',\n",
       " 'extrem impress item bought warehous outlet minor imperfect tell even one work great come packag seal damag miss anyth like sound qualiti see knock bose great famili easi use minor learn curv learn voic integr seamlessli amazon servic wait get classroom lot fun even speaker let alon plan',\n",
       " 'love echo show bedroom wonder music info sleep sound',\n",
       " 'awesom life changer serious abl start morn alexa wake alarm play music gotten use voic anoth room listen say love echo hesit get one price speaker unbeliev buy cordless holder take echo anywher love purchas love alexa',\n",
       " 'super impress alexa prime laps play anyth smart enough differenti among spotifi account use either randomli speak nobodi talk today unplug sure ever use alexa',\n",
       " 'like everyth',\n",
       " 'like',\n",
       " 'never issu buy use electron long get good like new read comment see use',\n",
       " 'famili realli love new echo',\n",
       " 'bought wife love',\n",
       " 'fun got today pod go car use hous',\n",
       " 'like',\n",
       " 'third echo worth everi penni like household employe small flat rate keep bedroom live room drop use intercom listen music answer quick question alarm wake school etc',\n",
       " 'listen music set timer',\n",
       " 'receiv echo perfect condit devic easi set respond quickli without issu alexa great addit famili',\n",
       " 'good sound like music schedul like get random thought record think joke cute',\n",
       " 'purchas begin learn far pleas amaz differ action perform enjoy look forward learn option provid',\n",
       " 'echo great other even though smaller',\n",
       " 'funni buy someth look fun wind total use part home love',\n",
       " 'bought replac dot live room speaker slightli better hear better tv unfortun understand respond request well dot frequent request time get want dot usual exactli want first request consid upgrad',\n",
       " 'good experi far second gener echo mani thing learn time yet right mostli enjoy music weather updat use alarm featur person also purchas mini smart socket ye excit begin use',\n",
       " 'troubl connect tv exactli tech smart sure one grandson figur far use mostli music',\n",
       " 'simpli love echo hardli watch tv anymor busi listen music speaker pretti goo size fun skill realli make echo fun whole famili',\n",
       " 'enjoy entir echo experi',\n",
       " 'easi set',\n",
       " 'echo amaz devic mani time seem intuit time ask someth seem clear simpl get result instal fairli straightforward mess sever time simpli thought step complet actual made lose ground figur advic patient app let know move next step biggest issu moment sever echo devic home would like use intercom told done howev make echo awar other exist ask alexa answer instruct chang name know like fault would think design would anticip make easier find need instruct small deal mani devic savvi peopl challeng',\n",
       " 'love much',\n",
       " 'origin alexa tap far nd gener best happi see make improv new one would great updat littl think would help lot bug happi play music throughout whole hous adjust bass trebl thank',\n",
       " 'pleas echo nd gener nice alexa avail music weather news probabl lot discov',\n",
       " 'pleasantli surpris sound qualiti echo big fan deep bass might suffici though potenti control home option explor evolv home smart home voic recognit impress stylish fun regret purchas great technic chang peopl ask play song movi respond instantli elderli love one would great gift connect wifi simpl use want unlimit music control sure amazon prime premium spotifi blown away person dj even convers echo embarrass say echo made laugh coupl time ask tell joke tell packag sinc amazon prime addict come extrem handi',\n",
       " 'easi setup love thing',\n",
       " 'alexa throughout hous futur arriv',\n",
       " 'alreadi alexa amazon find today could resist get echo also best thing ever use side hous happier',\n",
       " 'arriv expect',\n",
       " 'bought week ago everyth product excel forget buy charger order must take outsid pool worri hire electrician put outlet yard',\n",
       " 'terrif',\n",
       " 'love echo',\n",
       " 'smaller origin look nicer',\n",
       " 'work great',\n",
       " 'husband would call late adopt come technolog decid would tri echo serv primarili music sourc wow amaz great sound also great time listen favorit song buy ask alexa may even buy one elderli dad think enjoy one listen music even place call us',\n",
       " 'realli enjoy chang directv channel play iheartradio pandora adjust ac thermostat turn live room light outsid light',\n",
       " 'want one bought prime day absolut love',\n",
       " 'glad got echo bluetooth speaker alexa much stuff non smart speaker person love timer featur help cook multipl thing simultan pandora integr anoth featur use daili happi prime day purchas get echo hub echo dot futur',\n",
       " 'see subject line love',\n",
       " 'love',\n",
       " 'easi setup',\n",
       " 'hesit buy echo echo dot seem good enough echo except sound qualiti realli feel need howev glad got differ sound realli far superior echo dot listen greatest showman littl power',\n",
       " 'sound qualiti great still learn differ thing fun',\n",
       " 'got good deal work great prime setup bit pain fault crappi internet servic work great nice sound small speaker',\n",
       " 'love',\n",
       " 'work great perfect offic',\n",
       " 'love one insid hous one pool good bose speaker around hous',\n",
       " 'easi use amaz',\n",
       " 'nice product',\n",
       " 'love echo total amaz speaker qualiti bum buy two sinc got prime day',\n",
       " 'respons great sound qualiti size',\n",
       " 'effici amaz cool use often everi day',\n",
       " 'impress qualiti sound echo definit compar bose mini gave star use appl music account',\n",
       " 'technolog small devic price good sound amaz must featur home',\n",
       " 'mainli use music learn time realli noth bad say',\n",
       " 'replac st gen concern smaller unit sound wrong anyth volum clear good product',\n",
       " 'great addit echo plu',\n",
       " 'best',\n",
       " 'love featur play music everi room multipl echo',\n",
       " 'love alexa surpris much use',\n",
       " 'use product enjoy love',\n",
       " 'easi use great sound great purchas great price',\n",
       " 'easi set issu',\n",
       " 'unit add much pleasur echo plu music inform home one room',\n",
       " 'extrem use simpl thing like spotifi audibl thing like sometim answer everyth ask still nice use',\n",
       " 'difficult set keep time enter password',\n",
       " 'get use use echo use shop list listen music timer work great far',\n",
       " 'cool lot fun use week still learn capabl',\n",
       " 'love love',\n",
       " 'love hard time set app',\n",
       " 'use offic anoth apart music inform',\n",
       " 'great music littl hard figur work',\n",
       " 'given year time birthday gift dad love ask alexa anyth answer plu good homework purchas one prime day bathroom get readi work listen music base metro boom replac clock radio plu echo dot night stand alarm clock',\n",
       " 'impress look clariti sound color',\n",
       " 'alexa amaz great speaker',\n",
       " 'still get use alexa connect tv yet thing right use music inform great',\n",
       " 'work sound great hous bare sf sit kitchen counter hear speak room lot function still discov',\n",
       " 'pure fun echo weather joke news brief music still much use lot fun money',\n",
       " 'use time especi commun kid throughout home',\n",
       " 'love still learn make lot thing easier like forget turn light anoth room ask alexa turn light',\n",
       " 'bought daughter turn love especi like call featur sinc cell phone love play music danc amazon music play favorit song sometim lol',\n",
       " 'got wed gift discov featur yet updat play music great though',\n",
       " 'impress sound qualiti',\n",
       " 'pleas purchas echo smart speaker love fact play music differ genr whenev want troubl first wi fi work',\n",
       " 'wife enjoy eas play music game fun entertain look forward ad smart product home',\n",
       " 'second echo love help kitchen set timer listen news prepar groceri list get great music',\n",
       " 'sound qualiti good wish alexa could answer question',\n",
       " 'second echo dot speaker weak purchas listen music speaker great',\n",
       " 'great sound',\n",
       " 'great',\n",
       " 'realli use speaker stream music month kinda useless',\n",
       " 'set user friendli set user friendli hope alexa app abl download pc without instal invas driver wife retir abl instal alexa son suppli smart phone use alexa yet',\n",
       " 'easi set realli enjoy',\n",
       " 'echo come built batteri plug time use make quit inconveni',\n",
       " 'compact bit better origin',\n",
       " 'love pretti cool',\n",
       " 'live room music sound realli good live room hear upstair',\n",
       " 'great product set easi sound wonder',\n",
       " 'far like bought music though sound pretti good',\n",
       " 'love',\n",
       " 'love',\n",
       " 'glad bought',\n",
       " 'like type fun music',\n",
       " 'like volum top turn quickli',\n",
       " 'beyond capabl program grandkid lve',\n",
       " 'love new echo give hour music help thing difficult set help tekki',\n",
       " 'almost good bose love whole hous music',\n",
       " 'alexa hardli came',\n",
       " 'easi setup use app also easi instal phone sound qualiti listen music pandora wonder',\n",
       " 'still learn use echo far love',\n",
       " 'work awesom',\n",
       " 'work great',\n",
       " 'small speaker sound great',\n",
       " 'great sound size prize cours alexa',\n",
       " 'echo definit need one',\n",
       " 'great devic seem work better st gener',\n",
       " 'item longer work month use connect wifi unrespons reset request',\n",
       " 'love echo dot easi fun get drop grandaught live mile away sound like right next',\n",
       " 'work great differ new one',\n",
       " 'one go kitchen timer music duti',\n",
       " 'love volum could definit use boost better built speaker would definit star thought ahead put audio auxiliari input bought dedic speaker echo prove best way go',\n",
       " 'work fine',\n",
       " 'work great look brand new love new echo dot get main room hous',\n",
       " 'refurbish item work like new love easi set love issu volum listen relax fine expect anyth els recommend purchas speaker',\n",
       " 'loud',\n",
       " 'nd one love',\n",
       " 'sure feel echo dot mani thing need get use ask right question understand',\n",
       " 'thing bare work select rd parti app stuff think could box send mine back asap wast money',\n",
       " 'gift man like plug pictur show cord would prefer cordless still work though purpos bought',\n",
       " 'th amazon echo devic purchas refurbish satisfi time differ tell brand new price cheaper echo wake us keep timer play music us act encyclopedia turn light much',\n",
       " 'small echo dot amaz sound come great chang nest thermostat phillip hue light without leav chair',\n",
       " 'talk time song dislik devic',\n",
       " 'never disappoint amazon technolog',\n",
       " 'work promis',\n",
       " 'return echo dot get refund return one packag want refund packag see',\n",
       " 'work',\n",
       " 'weird paus speech pattern present echo devic',\n",
       " 'sure love alexa lol thank great price product',\n",
       " 'work',\n",
       " 'echo fan one work',\n",
       " '',\n",
       " 'bought bathroom listen shower love',\n",
       " 'alway respond spoken promp word thought would connect echo upstair use like intercom abl',\n",
       " 'fast ship work well',\n",
       " 'love',\n",
       " 'love love love new free assist',\n",
       " 'six word alexa tell poop joke',\n",
       " 'work month stop tri everyth tri make work noth work want refund',\n",
       " 'poor qualiti gave away',\n",
       " 'refurbish way go echo work like new',\n",
       " 'love',\n",
       " 'five need say',\n",
       " 'speaker arent loud alexa great though besid naw',\n",
       " 'work great sound good',\n",
       " 'never could get work techi friend look said adapt strong enough power look like bought dollar store go replac adapt hope work',\n",
       " 'almost like star trek home fun tri outsmart',\n",
       " 'add echo system refurbish product work like new',\n",
       " 'great offic use daili mani way includ spell background music',\n",
       " 'awesom love alexa',\n",
       " 'sure realli want one extrem use get one love',\n",
       " 'initi echo dot work well time dot stop respond alexa unless within one foot yell echo echo dot room would respond without respons echo dot would recommend buy refurbish',\n",
       " 'great product fast ship',\n",
       " 'bought echo dot refurbish stop whatev function perform quit often wake everi time randomli turn noth buy refurbish echo dot',\n",
       " 'perfect work great problem refurbish',\n",
       " 'dont trust',\n",
       " 'perfect condit love echo',\n",
       " 'love beauti experi especi hook smart light accessori',\n",
       " 'got within last coupl week tell issu son want alexa th birthday could tell joke could ask question listen music enjoy one much bought second one week prime deal day',\n",
       " 'divertido',\n",
       " 'great product work great',\n",
       " 'bought guest room radio alarm clock inform center much',\n",
       " 'great buy bought go echo love speaker best music work great kitchen timer alarm',\n",
       " '',\n",
       " 'work perfect save buck buy refurbish look brand new',\n",
       " 'look work perfect glad got good deal',\n",
       " 'good new one bought less',\n",
       " 'love work well',\n",
       " 'everyth perfect',\n",
       " 'good price prompt ship work flawlessli',\n",
       " 'love alexa',\n",
       " 'room improv price cannot complain much still complain howev audio terribl kind like listen speak n spell',\n",
       " 'iov bought son want awesom',\n",
       " 'echo work price great deal issu dot speaker bit tinni good second unit like attach extern speaker sound good buy',\n",
       " 'thank',\n",
       " 'want use radio intercom get terribl fm recept live speech recognit softwar horribl wife nativ american whose languag english north texa neither accent birth area yet good job understand us bought two thing addit wifi recept poor margin buy wifi rang extend offic ten feet router problem switch around differ disconnect dust collector',\n",
       " 'third dot work perfectli use one multipl time day absolut love',\n",
       " 'item never work box broken spent sever day tri get work run fix amazon thing accomplish never order anoth refurbish devic',\n",
       " 'alreadi echo plu bought one bedroom love function',\n",
       " 'simpl set music everywher',\n",
       " 'work like brand new dot satisfi',\n",
       " 'great product return new alexa dot refurbish alreadi give problem connect',\n",
       " 'echo alreadi went one refurbish save buck work great love new gener one rubber bottom nice',\n",
       " 'love fact unplug take basement want laundri',\n",
       " 'refurbish good new one bought',\n",
       " 'good new',\n",
       " 'granddaught love',\n",
       " 'price great troubl hear across room move anoth spot seem work fine buy want everi room',\n",
       " 'set alexa blue tooth speaker enjoy listen music outdoor wait tri new stuff use alexa',\n",
       " 'thank',\n",
       " 'work great',\n",
       " 'never buy certifi refurbish echo dot bought certifi refurbish echo dot unit poor receiv command sometim even acknowledg command never buy refurbish echo dot unit receiv probabl never certifi refurbish indic also bought new echo dot work perfectli disappoint',\n",
       " 'start amazon productsand regret noth absolut great journey product continu improv day day life',\n",
       " 'use sever month without problem',\n",
       " 'first smart devic sure buy devic compat one',\n",
       " 'love',\n",
       " 'love good new one',\n",
       " 'larger echo time love bought one anoth portion hous sinc sever wifi home devic want voic control hous',\n",
       " 'love product use turn light answer quick question',\n",
       " 'great buy',\n",
       " 'leari refurbish work great',\n",
       " 'puni sound work great',\n",
       " 'great',\n",
       " 'exactli like new tell differ new dot got prior one work perfectli love alexa',\n",
       " 'work perfect wear tear devic love alexa work make home smart',\n",
       " 'work good',\n",
       " 'thing like shut work great',\n",
       " 'excel product mint condit refurbish unit would never know refurbish',\n",
       " 'alreadi own coupl echo frustrat also use intercom final amazon enabl drop featur use echo reach famili remot part hous teenag insist never heard yell come dinner featur mainli use echo standard stuff play music set alarm answer question etc life chang home devic amazon would believ conveni around refurb save buck look work brand new one',\n",
       " 'love worri refurbish part first first echo awesom use everyth light sinc work night shop well spotifi plan get parent help everyday thing take grant young would recommend everyon',\n",
       " 'love alexa hope everi room soon',\n",
       " 'simplic use set',\n",
       " 'great got one gazebo one upstair',\n",
       " 'work great never issu',\n",
       " 'everyth ask',\n",
       " 'work great good sound',\n",
       " 'use echo listen music well sort research tool answer varieti question would like volum could go littl bit louder complain also believ intern power sourc order use echo must plug time use univers charg cord would nice use echo dot go without buy product',\n",
       " 'love great fun',\n",
       " 'love',\n",
       " 'outstand use time work like say',\n",
       " 'save alway nice son alway say buy refurbish mean get new devic product less run diagnost everyth correct',\n",
       " 'work perfectli alexa turn light tv roomba',\n",
       " 'never would know refurbish',\n",
       " 'far good',\n",
       " 'look perform new complaint',\n",
       " 'goe great echo',\n",
       " 'work great like new one alreadi',\n",
       " 'item work certifi refurbish mean work advertis instead item crash soon turn plug tri connect phone echo dot crash would disconnect orang light would freez thing would reboot blue light alexa would tell readi connect freez mid sentenc tri hold action button second anyth return immedi hope actual fix item next buyer purchas',\n",
       " 'fast servic got order thank',\n",
       " 'love even though still tri figur thing item work great phone']"
      ]
     },
     "execution_count": 22,
     "metadata": {},
     "output_type": "execute_result"
    }
   ],
   "source": [
    "corpus[:1500]"
   ]
  },
  {
   "cell_type": "code",
   "execution_count": 23,
   "metadata": {
    "id": "ffVsrTSpUlQD"
   },
   "outputs": [],
   "source": [
    "from sklearn.feature_extraction.text import CountVectorizer\n",
    "cv = CountVectorizer(max_features=1500)\n",
    "X =cv.fit_transform(corpus).toarray()\n",
    "y = data.iloc[:,1].values"
   ]
  },
  {
   "cell_type": "code",
   "execution_count": 24,
   "metadata": {
    "id": "rXdL_RCiU6EF"
   },
   "outputs": [
    {
     "ename": "ValueError",
     "evalue": "Found input variables with inconsistent numbers of samples: [473, 3150]",
     "output_type": "error",
     "traceback": [
      "\u001b[1;31m---------------------------------------------------------------------------\u001b[0m",
      "\u001b[1;31mValueError\u001b[0m                                Traceback (most recent call last)",
      "Cell \u001b[1;32mIn[24], line 2\u001b[0m\n\u001b[0;32m      1\u001b[0m \u001b[38;5;28;01mfrom\u001b[39;00m \u001b[38;5;21;01msklearn\u001b[39;00m\u001b[38;5;21;01m.\u001b[39;00m\u001b[38;5;21;01mmodel_selection\u001b[39;00m \u001b[38;5;28;01mimport\u001b[39;00m train_test_split\n\u001b[1;32m----> 2\u001b[0m X_train, X_test, y_train, y_test \u001b[38;5;241m=\u001b[39mtrain_test_split(X,y,test_size\u001b[38;5;241m=\u001b[39m\u001b[38;5;241m0.20\u001b[39m, random_state\u001b[38;5;241m=\u001b[39m\u001b[38;5;241m0\u001b[39m)\n",
      "File \u001b[1;32m~\\anaconda3\\Lib\\site-packages\\sklearn\\utils\\_param_validation.py:214\u001b[0m, in \u001b[0;36mvalidate_params.<locals>.decorator.<locals>.wrapper\u001b[1;34m(*args, **kwargs)\u001b[0m\n\u001b[0;32m    208\u001b[0m \u001b[38;5;28;01mtry\u001b[39;00m:\n\u001b[0;32m    209\u001b[0m     \u001b[38;5;28;01mwith\u001b[39;00m config_context(\n\u001b[0;32m    210\u001b[0m         skip_parameter_validation\u001b[38;5;241m=\u001b[39m(\n\u001b[0;32m    211\u001b[0m             prefer_skip_nested_validation \u001b[38;5;129;01mor\u001b[39;00m global_skip_validation\n\u001b[0;32m    212\u001b[0m         )\n\u001b[0;32m    213\u001b[0m     ):\n\u001b[1;32m--> 214\u001b[0m         \u001b[38;5;28;01mreturn\u001b[39;00m func(\u001b[38;5;241m*\u001b[39margs, \u001b[38;5;241m*\u001b[39m\u001b[38;5;241m*\u001b[39mkwargs)\n\u001b[0;32m    215\u001b[0m \u001b[38;5;28;01mexcept\u001b[39;00m InvalidParameterError \u001b[38;5;28;01mas\u001b[39;00m e:\n\u001b[0;32m    216\u001b[0m     \u001b[38;5;66;03m# When the function is just a wrapper around an estimator, we allow\u001b[39;00m\n\u001b[0;32m    217\u001b[0m     \u001b[38;5;66;03m# the function to delegate validation to the estimator, but we replace\u001b[39;00m\n\u001b[0;32m    218\u001b[0m     \u001b[38;5;66;03m# the name of the estimator by the name of the function in the error\u001b[39;00m\n\u001b[0;32m    219\u001b[0m     \u001b[38;5;66;03m# message to avoid confusion.\u001b[39;00m\n\u001b[0;32m    220\u001b[0m     msg \u001b[38;5;241m=\u001b[39m re\u001b[38;5;241m.\u001b[39msub(\n\u001b[0;32m    221\u001b[0m         \u001b[38;5;124mr\u001b[39m\u001b[38;5;124m\"\u001b[39m\u001b[38;5;124mparameter of \u001b[39m\u001b[38;5;124m\\\u001b[39m\u001b[38;5;124mw+ must be\u001b[39m\u001b[38;5;124m\"\u001b[39m,\n\u001b[0;32m    222\u001b[0m         \u001b[38;5;124mf\u001b[39m\u001b[38;5;124m\"\u001b[39m\u001b[38;5;124mparameter of \u001b[39m\u001b[38;5;132;01m{\u001b[39;00mfunc\u001b[38;5;241m.\u001b[39m\u001b[38;5;18m__qualname__\u001b[39m\u001b[38;5;132;01m}\u001b[39;00m\u001b[38;5;124m must be\u001b[39m\u001b[38;5;124m\"\u001b[39m,\n\u001b[0;32m    223\u001b[0m         \u001b[38;5;28mstr\u001b[39m(e),\n\u001b[0;32m    224\u001b[0m     )\n",
      "File \u001b[1;32m~\\anaconda3\\Lib\\site-packages\\sklearn\\model_selection\\_split.py:2646\u001b[0m, in \u001b[0;36mtrain_test_split\u001b[1;34m(test_size, train_size, random_state, shuffle, stratify, *arrays)\u001b[0m\n\u001b[0;32m   2643\u001b[0m \u001b[38;5;28;01mif\u001b[39;00m n_arrays \u001b[38;5;241m==\u001b[39m \u001b[38;5;241m0\u001b[39m:\n\u001b[0;32m   2644\u001b[0m     \u001b[38;5;28;01mraise\u001b[39;00m \u001b[38;5;167;01mValueError\u001b[39;00m(\u001b[38;5;124m\"\u001b[39m\u001b[38;5;124mAt least one array required as input\u001b[39m\u001b[38;5;124m\"\u001b[39m)\n\u001b[1;32m-> 2646\u001b[0m arrays \u001b[38;5;241m=\u001b[39m indexable(\u001b[38;5;241m*\u001b[39marrays)\n\u001b[0;32m   2648\u001b[0m n_samples \u001b[38;5;241m=\u001b[39m _num_samples(arrays[\u001b[38;5;241m0\u001b[39m])\n\u001b[0;32m   2649\u001b[0m n_train, n_test \u001b[38;5;241m=\u001b[39m _validate_shuffle_split(\n\u001b[0;32m   2650\u001b[0m     n_samples, test_size, train_size, default_test_size\u001b[38;5;241m=\u001b[39m\u001b[38;5;241m0.25\u001b[39m\n\u001b[0;32m   2651\u001b[0m )\n",
      "File \u001b[1;32m~\\anaconda3\\Lib\\site-packages\\sklearn\\utils\\validation.py:453\u001b[0m, in \u001b[0;36mindexable\u001b[1;34m(*iterables)\u001b[0m\n\u001b[0;32m    434\u001b[0m \u001b[38;5;250m\u001b[39m\u001b[38;5;124;03m\"\"\"Make arrays indexable for cross-validation.\u001b[39;00m\n\u001b[0;32m    435\u001b[0m \n\u001b[0;32m    436\u001b[0m \u001b[38;5;124;03mChecks consistent length, passes through None, and ensures that everything\u001b[39;00m\n\u001b[1;32m   (...)\u001b[0m\n\u001b[0;32m    449\u001b[0m \u001b[38;5;124;03m    sparse matrix, or dataframe) or `None`.\u001b[39;00m\n\u001b[0;32m    450\u001b[0m \u001b[38;5;124;03m\"\"\"\u001b[39;00m\n\u001b[0;32m    452\u001b[0m result \u001b[38;5;241m=\u001b[39m [_make_indexable(X) \u001b[38;5;28;01mfor\u001b[39;00m X \u001b[38;5;129;01min\u001b[39;00m iterables]\n\u001b[1;32m--> 453\u001b[0m check_consistent_length(\u001b[38;5;241m*\u001b[39mresult)\n\u001b[0;32m    454\u001b[0m \u001b[38;5;28;01mreturn\u001b[39;00m result\n",
      "File \u001b[1;32m~\\anaconda3\\Lib\\site-packages\\sklearn\\utils\\validation.py:407\u001b[0m, in \u001b[0;36mcheck_consistent_length\u001b[1;34m(*arrays)\u001b[0m\n\u001b[0;32m    405\u001b[0m uniques \u001b[38;5;241m=\u001b[39m np\u001b[38;5;241m.\u001b[39munique(lengths)\n\u001b[0;32m    406\u001b[0m \u001b[38;5;28;01mif\u001b[39;00m \u001b[38;5;28mlen\u001b[39m(uniques) \u001b[38;5;241m>\u001b[39m \u001b[38;5;241m1\u001b[39m:\n\u001b[1;32m--> 407\u001b[0m     \u001b[38;5;28;01mraise\u001b[39;00m \u001b[38;5;167;01mValueError\u001b[39;00m(\n\u001b[0;32m    408\u001b[0m         \u001b[38;5;124m\"\u001b[39m\u001b[38;5;124mFound input variables with inconsistent numbers of samples: \u001b[39m\u001b[38;5;132;01m%r\u001b[39;00m\u001b[38;5;124m\"\u001b[39m\n\u001b[0;32m    409\u001b[0m         \u001b[38;5;241m%\u001b[39m [\u001b[38;5;28mint\u001b[39m(l) \u001b[38;5;28;01mfor\u001b[39;00m l \u001b[38;5;129;01min\u001b[39;00m lengths]\n\u001b[0;32m    410\u001b[0m     )\n",
      "\u001b[1;31mValueError\u001b[0m: Found input variables with inconsistent numbers of samples: [473, 3150]"
     ]
    }
   ],
   "source": [
    "from sklearn.model_selection import train_test_split\n",
    "X_train, X_test, y_train, y_test =train_test_split(X,y,test_size=0.20, random_state=0)"
   ]
  },
  {
   "cell_type": "code",
   "execution_count": 25,
   "metadata": {
    "colab": {
     "base_uri": "https://localhost:8080/"
    },
    "executionInfo": {
     "elapsed": 18,
     "status": "ok",
     "timestamp": 1695393811859,
     "user": {
      "displayName": "Mukesh Raj Kotha",
      "userId": "03884101089893064650"
     },
     "user_tz": -330
    },
    "id": "XXevMGf1U6o8",
    "outputId": "bdcbe5d8-4f4d-4af6-c269-711290605a7a"
   },
   "outputs": [
    {
     "ename": "NameError",
     "evalue": "name 'X_train' is not defined",
     "output_type": "error",
     "traceback": [
      "\u001b[1;31m---------------------------------------------------------------------------\u001b[0m",
      "\u001b[1;31mNameError\u001b[0m                                 Traceback (most recent call last)",
      "Cell \u001b[1;32mIn[25], line 1\u001b[0m\n\u001b[1;32m----> 1\u001b[0m X_train\u001b[38;5;241m.\u001b[39mshape,X_test\u001b[38;5;241m.\u001b[39mshape, y_train\u001b[38;5;241m.\u001b[39mshape,y_test\u001b[38;5;241m.\u001b[39mshape\n",
      "\u001b[1;31mNameError\u001b[0m: name 'X_train' is not defined"
     ]
    }
   ],
   "source": [
    "X_train.shape,X_test.shape, y_train.shape,y_test.shape"
   ]
  },
  {
   "cell_type": "code",
   "execution_count": null,
   "metadata": {
    "colab": {
     "base_uri": "https://localhost:8080/",
     "height": 75
    },
    "executionInfo": {
     "elapsed": 7,
     "status": "ok",
     "timestamp": 1695393814730,
     "user": {
      "displayName": "Mukesh Raj Kotha",
      "userId": "03884101089893064650"
     },
     "user_tz": -330
    },
    "id": "0f2s7XLmU9CB",
    "outputId": "9dd94595-4774-4d6b-b2b1-ffe0e9b1b9b1"
   },
   "outputs": [
    {
     "data": {
      "text/html": [
       "<style>#sk-container-id-1 {color: black;background-color: white;}#sk-container-id-1 pre{padding: 0;}#sk-container-id-1 div.sk-toggleable {background-color: white;}#sk-container-id-1 label.sk-toggleable__label {cursor: pointer;display: block;width: 100%;margin-bottom: 0;padding: 0.3em;box-sizing: border-box;text-align: center;}#sk-container-id-1 label.sk-toggleable__label-arrow:before {content: \"▸\";float: left;margin-right: 0.25em;color: #696969;}#sk-container-id-1 label.sk-toggleable__label-arrow:hover:before {color: black;}#sk-container-id-1 div.sk-estimator:hover label.sk-toggleable__label-arrow:before {color: black;}#sk-container-id-1 div.sk-toggleable__content {max-height: 0;max-width: 0;overflow: hidden;text-align: left;background-color: #f0f8ff;}#sk-container-id-1 div.sk-toggleable__content pre {margin: 0.2em;color: black;border-radius: 0.25em;background-color: #f0f8ff;}#sk-container-id-1 input.sk-toggleable__control:checked~div.sk-toggleable__content {max-height: 200px;max-width: 100%;overflow: auto;}#sk-container-id-1 input.sk-toggleable__control:checked~label.sk-toggleable__label-arrow:before {content: \"▾\";}#sk-container-id-1 div.sk-estimator input.sk-toggleable__control:checked~label.sk-toggleable__label {background-color: #d4ebff;}#sk-container-id-1 div.sk-label input.sk-toggleable__control:checked~label.sk-toggleable__label {background-color: #d4ebff;}#sk-container-id-1 input.sk-hidden--visually {border: 0;clip: rect(1px 1px 1px 1px);clip: rect(1px, 1px, 1px, 1px);height: 1px;margin: -1px;overflow: hidden;padding: 0;position: absolute;width: 1px;}#sk-container-id-1 div.sk-estimator {font-family: monospace;background-color: #f0f8ff;border: 1px dotted black;border-radius: 0.25em;box-sizing: border-box;margin-bottom: 0.5em;}#sk-container-id-1 div.sk-estimator:hover {background-color: #d4ebff;}#sk-container-id-1 div.sk-parallel-item::after {content: \"\";width: 100%;border-bottom: 1px solid gray;flex-grow: 1;}#sk-container-id-1 div.sk-label:hover label.sk-toggleable__label {background-color: #d4ebff;}#sk-container-id-1 div.sk-serial::before {content: \"\";position: absolute;border-left: 1px solid gray;box-sizing: border-box;top: 0;bottom: 0;left: 50%;z-index: 0;}#sk-container-id-1 div.sk-serial {display: flex;flex-direction: column;align-items: center;background-color: white;padding-right: 0.2em;padding-left: 0.2em;position: relative;}#sk-container-id-1 div.sk-item {position: relative;z-index: 1;}#sk-container-id-1 div.sk-parallel {display: flex;align-items: stretch;justify-content: center;background-color: white;position: relative;}#sk-container-id-1 div.sk-item::before, #sk-container-id-1 div.sk-parallel-item::before {content: \"\";position: absolute;border-left: 1px solid gray;box-sizing: border-box;top: 0;bottom: 0;left: 50%;z-index: -1;}#sk-container-id-1 div.sk-parallel-item {display: flex;flex-direction: column;z-index: 1;position: relative;background-color: white;}#sk-container-id-1 div.sk-parallel-item:first-child::after {align-self: flex-end;width: 50%;}#sk-container-id-1 div.sk-parallel-item:last-child::after {align-self: flex-start;width: 50%;}#sk-container-id-1 div.sk-parallel-item:only-child::after {width: 0;}#sk-container-id-1 div.sk-dashed-wrapped {border: 1px dashed gray;margin: 0 0.4em 0.5em 0.4em;box-sizing: border-box;padding-bottom: 0.4em;background-color: white;}#sk-container-id-1 div.sk-label label {font-family: monospace;font-weight: bold;display: inline-block;line-height: 1.2em;}#sk-container-id-1 div.sk-label-container {text-align: center;}#sk-container-id-1 div.sk-container {/* jupyter's `normalize.less` sets `[hidden] { display: none; }` but bootstrap.min.css set `[hidden] { display: none !important; }` so we also need the `!important` here to be able to override the default hidden behavior on the sphinx rendered scikit-learn.org. See: https://github.com/scikit-learn/scikit-learn/issues/21755 */display: inline-block !important;position: relative;}#sk-container-id-1 div.sk-text-repr-fallback {display: none;}</style><div id=\"sk-container-id-1\" class=\"sk-top-container\"><div class=\"sk-text-repr-fallback\"><pre>MultinomialNB()</pre><b>In a Jupyter environment, please rerun this cell to show the HTML representation or trust the notebook. <br />On GitHub, the HTML representation is unable to render, please try loading this page with nbviewer.org.</b></div><div class=\"sk-container\" hidden><div class=\"sk-item\"><div class=\"sk-estimator sk-toggleable\"><input class=\"sk-toggleable__control sk-hidden--visually\" id=\"sk-estimator-id-1\" type=\"checkbox\" checked><label for=\"sk-estimator-id-1\" class=\"sk-toggleable__label sk-toggleable__label-arrow\">MultinomialNB</label><div class=\"sk-toggleable__content\"><pre>MultinomialNB()</pre></div></div></div></div></div>"
      ],
      "text/plain": [
       "MultinomialNB()"
      ]
     },
     "execution_count": 14,
     "metadata": {},
     "output_type": "execute_result"
    }
   ],
   "source": [
    "from sklearn.naive_bayes import MultinomialNB\n",
    "\n",
    "classifier =MultinomialNB()\n",
    "classifier.fit(X_train, y_train)"
   ]
  },
  {
   "cell_type": "code",
   "execution_count": null,
   "metadata": {
    "colab": {
     "base_uri": "https://localhost:8080/"
    },
    "executionInfo": {
     "elapsed": 7,
     "status": "ok",
     "timestamp": 1695393825424,
     "user": {
      "displayName": "Mukesh Raj Kotha",
      "userId": "03884101089893064650"
     },
     "user_tz": -330
    },
    "id": "UiQ9LoUtU_zb",
    "outputId": "7c53e929-8708-4a13-e5cc-51017cedf50a"
   },
   "outputs": [
    {
     "data": {
      "text/plain": [
       "array([0, 0, 0, 0, 0, 0, 1, 0, 0, 1, 1, 1, 1, 1, 1, 1, 0, 0, 0, 1, 0, 0,\n",
       "       1, 1, 1, 1, 1, 1, 1, 1, 1, 1, 1, 1, 1, 0, 0, 0, 0, 1, 1, 1, 1, 0,\n",
       "       0, 0, 1, 1, 0, 0, 1, 1, 1, 1, 1, 0, 1, 1, 0, 1, 1, 0, 0, 1, 0, 0,\n",
       "       1, 0, 1, 0, 1, 1, 1, 0, 0, 0, 0, 1, 0, 1, 1, 1, 1, 0, 1, 1, 1, 0,\n",
       "       1, 1, 0, 1, 0, 0, 0, 0, 0, 0, 0, 0, 0, 1, 1, 1, 0, 1, 1, 1, 0, 0,\n",
       "       0, 1, 0, 1, 1, 0, 1, 1, 1, 1, 1, 0, 1, 1, 0, 0, 1, 1, 0, 0, 1, 1,\n",
       "       0, 0, 1, 1, 1, 1, 1, 1, 0, 1, 1, 0, 0, 0, 0, 0, 1, 0, 1, 0, 1, 1,\n",
       "       1, 0, 1, 0, 1, 1, 0, 0, 1, 1, 0, 0, 1, 0, 0, 0, 0, 1, 1, 0, 0, 1,\n",
       "       0, 1, 0, 0, 1, 0, 0, 1, 0, 0, 0, 1, 0, 1, 1, 0, 1, 0, 0, 0, 1, 1,\n",
       "       0, 1])"
      ]
     },
     "execution_count": 15,
     "metadata": {},
     "output_type": "execute_result"
    }
   ],
   "source": [
    "y_pred = classifier.predict(X_test)\n",
    "\n",
    "y_pred"
   ]
  },
  {
   "cell_type": "code",
   "execution_count": null,
   "metadata": {
    "colab": {
     "base_uri": "https://localhost:8080/"
    },
    "executionInfo": {
     "elapsed": 3,
     "status": "ok",
     "timestamp": 1695393834688,
     "user": {
      "displayName": "Mukesh Raj Kotha",
      "userId": "03884101089893064650"
     },
     "user_tz": -330
    },
    "id": "3Q-A4KksVDjw",
    "outputId": "d14ea7bb-e21c-4229-d9cc-8944214cd6fd"
   },
   "outputs": [
    {
     "name": "stdout",
     "output_type": "stream",
     "text": [
      "---------SCORES--------\n",
      "Accuracy score is 76.5%\n",
      "Precision score is 76.5%\n",
      "recall score is 78.641%\n"
     ]
    }
   ],
   "source": [
    "from sklearn.metrics import accuracy_score\n",
    "\n",
    "from sklearn.metrics import precision_score\n",
    "\n",
    "from sklearn.metrics import recall_score\n",
    "\n",
    "score1 =accuracy_score(y_test,y_pred)\n",
    "score2 = accuracy_score(y_test,y_pred)\n",
    "score3 = recall_score(y_test,y_pred)\n",
    "\n",
    "print(\"---------SCORES--------\")\n",
    "print(\"Accuracy score is {}%\".format(round(score1*100,3)))\n",
    "print(\"Precision score is {}%\".format(round(score2*100,3)))\n",
    "print(\"recall score is {}%\".format(round(score3*100,3)))"
   ]
  },
  {
   "cell_type": "code",
   "execution_count": null,
   "metadata": {
    "id": "jpLjlXgAVEhh"
   },
   "outputs": [],
   "source": [
    "from sklearn.metrics import confusion_matrix\n",
    "cm = confusion_matrix(y_test, y_pred)"
   ]
  },
  {
   "cell_type": "code",
   "execution_count": null,
   "metadata": {
    "colab": {
     "base_uri": "https://localhost:8080/"
    },
    "executionInfo": {
     "elapsed": 7,
     "status": "ok",
     "timestamp": 1695393887429,
     "user": {
      "displayName": "Mukesh Raj Kotha",
      "userId": "03884101089893064650"
     },
     "user_tz": -330
    },
    "id": "dz16mP7NVGsB",
    "outputId": "56d5365d-a86f-4d67-95e1-89833b472028"
   },
   "outputs": [
    {
     "data": {
      "text/plain": [
       "array([[72, 25],\n",
       "       [22, 81]])"
      ]
     },
     "execution_count": 18,
     "metadata": {},
     "output_type": "execute_result"
    }
   ],
   "source": [
    "cm"
   ]
  },
  {
   "cell_type": "code",
   "execution_count": null,
   "metadata": {
    "colab": {
     "base_uri": "https://localhost:8080/",
     "height": 563
    },
    "executionInfo": {
     "elapsed": 5,
     "status": "ok",
     "timestamp": 1695393890445,
     "user": {
      "displayName": "Mukesh Raj Kotha",
      "userId": "03884101089893064650"
     },
     "user_tz": -330
    },
    "id": "BBhCfq4TVIvS",
    "outputId": "aa00ba21-44f7-48fb-b326-60e218413740"
   },
   "outputs": [
    {
     "data": {
      "text/plain": [
       "Text(95.72222222222221, 0.5, 'Actual Values')"
      ]
     },
     "execution_count": 19,
     "metadata": {},
     "output_type": "execute_result"
    },
    {
     "data": {
      "image/png": "[encoded data removed]",
      "text/plain": [
       "<Figure size 1000x600 with 2 Axes>"
      ]
     },
     "metadata": {},
     "output_type": "display_data"
    }
   ],
   "source": [
    "import matplotlib.pyplot as plt\n",
    "import seaborn as sns\n",
    "%matplotlib inline\n",
    "\n",
    "plt.figure(figsize =(10,6))\n",
    "sns.heatmap(cm, annot=True, cmap=\"YlGnBu\", xticklabels=['Negative','Positive'],yticklabels=['Negative','Positive'])\n",
    "plt.xlabel('Predicted values')\n",
    "plt.ylabel('Actual Values')"
   ]
  },
  {
   "cell_type": "code",
   "execution_count": null,
   "metadata": {
    "colab": {
     "base_uri": "https://localhost:8080/"
    },
    "executionInfo": {
     "elapsed": 3,
     "status": "ok",
     "timestamp": 1695393894770,
     "user": {
      "displayName": "Mukesh Raj Kotha",
      "userId": "03884101089893064650"
     },
     "user_tz": -330
    },
    "id": "UAmm7pcLVKvs",
    "outputId": "6d2eb901-8b01-4d32-9b1f-b5e8ba22ccce"
   },
   "outputs": [
    {
     "name": "stdout",
     "output_type": "stream",
     "text": [
      "Accuracy Score for alpha=0.1 is 78.0%\n",
      "Accuracy Score for alpha=0.2 is 78.5%\n",
      "Accuracy Score for alpha=0.3 is 78.0%\n",
      "Accuracy Score for alpha=0.4 is 78.0%\n",
      "Accuracy Score for alpha=0.5 is 77.5%\n",
      "Accuracy Score for alpha=0.6 is 77.5%\n",
      "Accuracy Score for alpha=0.7 is 77.5%\n",
      "Accuracy Score for alpha=0.8 is 77.0%\n",
      "Accuracy Score for alpha=0.9 is 76.5%\n",
      "Accuracy Score for alpha=1.0 is 76.5%\n",
      "----------------------------------------------------\n",
      "The Best Accuracy Score is 78.5% with alpha value as 0.2\n"
     ]
    }
   ],
   "source": [
    "from ssl import ALERT_DESCRIPTION_HANDSHAKE_FAILURE\n",
    "best_accuracy =0.0\n",
    "alpha_val =0.0\n",
    "for i in np.arange(0.1,1.1,0.1):\n",
    "  temp_classifier =MultinomialNB(alpha=i)\n",
    "  temp_classifier.fit(X_train,y_train)\n",
    "  temp_y_pred =temp_classifier.predict(X_test)\n",
    "  score = accuracy_score(y_test,temp_y_pred)\n",
    "  print(\"Accuracy Score for alpha={} is {}%\".format(round(i,1),round(score*100,3)))\n",
    "  if score>best_accuracy:\n",
    "     best_accuracy=score\n",
    "     alpha_val =i\n",
    "print('----------------------------------------------------')\n",
    "print(\"The Best Accuracy Score is {}% with alpha value as {}\".format(round(best_accuracy*100, 2), round(alpha_val, 1)))"
   ]
  },
  {
   "cell_type": "code",
   "execution_count": null,
   "metadata": {
    "colab": {
     "base_uri": "https://localhost:8080/",
     "height": 75
    },
    "executionInfo": {
     "elapsed": 4,
     "status": "ok",
     "timestamp": 1695393899049,
     "user": {
      "displayName": "Mukesh Raj Kotha",
      "userId": "03884101089893064650"
     },
     "user_tz": -330
    },
    "id": "7U0eLZdXVNO7",
    "outputId": "8601d424-c680-4c0e-b608-26c3889ce83d"
   },
   "outputs": [
    {
     "data": {
      "text/html": [
       "<style>#sk-container-id-2 {color: black;background-color: white;}#sk-container-id-2 pre{padding: 0;}#sk-container-id-2 div.sk-toggleable {background-color: white;}#sk-container-id-2 label.sk-toggleable__label {cursor: pointer;display: block;width: 100%;margin-bottom: 0;padding: 0.3em;box-sizing: border-box;text-align: center;}#sk-container-id-2 label.sk-toggleable__label-arrow:before {content: \"▸\";float: left;margin-right: 0.25em;color: #696969;}#sk-container-id-2 label.sk-toggleable__label-arrow:hover:before {color: black;}#sk-container-id-2 div.sk-estimator:hover label.sk-toggleable__label-arrow:before {color: black;}#sk-container-id-2 div.sk-toggleable__content {max-height: 0;max-width: 0;overflow: hidden;text-align: left;background-color: #f0f8ff;}#sk-container-id-2 div.sk-toggleable__content pre {margin: 0.2em;color: black;border-radius: 0.25em;background-color: #f0f8ff;}#sk-container-id-2 input.sk-toggleable__control:checked~div.sk-toggleable__content {max-height: 200px;max-width: 100%;overflow: auto;}#sk-container-id-2 input.sk-toggleable__control:checked~label.sk-toggleable__label-arrow:before {content: \"▾\";}#sk-container-id-2 div.sk-estimator input.sk-toggleable__control:checked~label.sk-toggleable__label {background-color: #d4ebff;}#sk-container-id-2 div.sk-label input.sk-toggleable__control:checked~label.sk-toggleable__label {background-color: #d4ebff;}#sk-container-id-2 input.sk-hidden--visually {border: 0;clip: rect(1px 1px 1px 1px);clip: rect(1px, 1px, 1px, 1px);height: 1px;margin: -1px;overflow: hidden;padding: 0;position: absolute;width: 1px;}#sk-container-id-2 div.sk-estimator {font-family: monospace;background-color: #f0f8ff;border: 1px dotted black;border-radius: 0.25em;box-sizing: border-box;margin-bottom: 0.5em;}#sk-container-id-2 div.sk-estimator:hover {background-color: #d4ebff;}#sk-container-id-2 div.sk-parallel-item::after {content: \"\";width: 100%;border-bottom: 1px solid gray;flex-grow: 1;}#sk-container-id-2 div.sk-label:hover label.sk-toggleable__label {background-color: #d4ebff;}#sk-container-id-2 div.sk-serial::before {content: \"\";position: absolute;border-left: 1px solid gray;box-sizing: border-box;top: 0;bottom: 0;left: 50%;z-index: 0;}#sk-container-id-2 div.sk-serial {display: flex;flex-direction: column;align-items: center;background-color: white;padding-right: 0.2em;padding-left: 0.2em;position: relative;}#sk-container-id-2 div.sk-item {position: relative;z-index: 1;}#sk-container-id-2 div.sk-parallel {display: flex;align-items: stretch;justify-content: center;background-color: white;position: relative;}#sk-container-id-2 div.sk-item::before, #sk-container-id-2 div.sk-parallel-item::before {content: \"\";position: absolute;border-left: 1px solid gray;box-sizing: border-box;top: 0;bottom: 0;left: 50%;z-index: -1;}#sk-container-id-2 div.sk-parallel-item {display: flex;flex-direction: column;z-index: 1;position: relative;background-color: white;}#sk-container-id-2 div.sk-parallel-item:first-child::after {align-self: flex-end;width: 50%;}#sk-container-id-2 div.sk-parallel-item:last-child::after {align-self: flex-start;width: 50%;}#sk-container-id-2 div.sk-parallel-item:only-child::after {width: 0;}#sk-container-id-2 div.sk-dashed-wrapped {border: 1px dashed gray;margin: 0 0.4em 0.5em 0.4em;box-sizing: border-box;padding-bottom: 0.4em;background-color: white;}#sk-container-id-2 div.sk-label label {font-family: monospace;font-weight: bold;display: inline-block;line-height: 1.2em;}#sk-container-id-2 div.sk-label-container {text-align: center;}#sk-container-id-2 div.sk-container {/* jupyter's `normalize.less` sets `[hidden] { display: none; }` but bootstrap.min.css set `[hidden] { display: none !important; }` so we also need the `!important` here to be able to override the default hidden behavior on the sphinx rendered scikit-learn.org. See: https://github.com/scikit-learn/scikit-learn/issues/21755 */display: inline-block !important;position: relative;}#sk-container-id-2 div.sk-text-repr-fallback {display: none;}</style><div id=\"sk-container-id-2\" class=\"sk-top-container\"><div class=\"sk-text-repr-fallback\"><pre>MultinomialNB(alpha=0.2)</pre><b>In a Jupyter environment, please rerun this cell to show the HTML representation or trust the notebook. <br />On GitHub, the HTML representation is unable to render, please try loading this page with nbviewer.org.</b></div><div class=\"sk-container\" hidden><div class=\"sk-item\"><div class=\"sk-estimator sk-toggleable\"><input class=\"sk-toggleable__control sk-hidden--visually\" id=\"sk-estimator-id-2\" type=\"checkbox\" checked><label for=\"sk-estimator-id-2\" class=\"sk-toggleable__label sk-toggleable__label-arrow\">MultinomialNB</label><div class=\"sk-toggleable__content\"><pre>MultinomialNB(alpha=0.2)</pre></div></div></div></div></div>"
      ],
      "text/plain": [
       "MultinomialNB(alpha=0.2)"
      ]
     },
     "execution_count": 21,
     "metadata": {},
     "output_type": "execute_result"
    }
   ],
   "source": [
    "classifier =MultinomialNB(alpha=0.2)\n",
    "classifier.fit(X_train, y_train)"
   ]
  },
  {
   "cell_type": "code",
   "execution_count": null,
   "metadata": {
    "id": "nU1ma-zyVi_V"
   },
   "outputs": [],
   "source": [
    "import re\n",
    "from nltk.corpus import stopwords\n",
    "from nltk.stem import PorterStemmer\n",
    "\n",
    "def predict_sentiment(sample_review):\n",
    "    sample_review = re.sub(pattern='[^a-zA-Z]', repl=' ', string=sample_review)\n",
    "    sample_review = sample_review.lower()\n",
    "    sample_review_words = sample_review.split()\n",
    "    sample_review_words = [word for word in sample_review_words if not word in set(stopwords.words('english'))]\n",
    "    ps = PorterStemmer()\n",
    "    final_review = [ps.stem(word) for word in sample_review_words]\n",
    "    final_review = ' '.join(final_review)\n",
    "\n",
    "    temp = cv.transform([final_review]).toarray()\n",
    "    return classifier.predict(temp)"
   ]
  },
  {
   "cell_type": "code",
   "execution_count": null,
   "metadata": {
    "colab": {
     "base_uri": "https://localhost:8080/"
    },
    "executionInfo": {
     "elapsed": 708,
     "status": "ok",
     "timestamp": 1695393907528,
     "user": {
      "displayName": "Mukesh Raj Kotha",
      "userId": "03884101089893064650"
     },
     "user_tz": -330
    },
    "id": "z1JeM2FZVkBf",
    "outputId": "edda9b79-e4bf-4c1a-bdff-6a5ff9b922a8"
   },
   "outputs": [
    {
     "name": "stdout",
     "output_type": "stream",
     "text": [
      "Negative review\n"
     ]
    }
   ],
   "source": [
    "sample_review ='The food is really bad.'\n",
    "\n",
    "if predict_sentiment(sample_review):\n",
    "  print(\"Positive review\")\n",
    "\n",
    "else:\n",
    "  print(\"Negative review\")"
   ]
  },
  {
   "cell_type": "code",
   "execution_count": null,
   "metadata": {
    "colab": {
     "base_uri": "https://localhost:8080/"
    },
    "executionInfo": {
     "elapsed": 1619,
     "status": "ok",
     "timestamp": 1695393913713,
     "user": {
      "displayName": "Mukesh Raj Kotha",
      "userId": "03884101089893064650"
     },
     "user_tz": -330
    },
    "id": "TqELOpJRVmNF",
    "outputId": "d1522a64-f689-4929-c833-183f2134ee20"
   },
   "outputs": [
    {
     "name": "stdout",
     "output_type": "stream",
     "text": [
      " Negative review\n"
     ]
    }
   ],
   "source": [
    "sample_review ='Food was pretty bad and the service was very slow'\n",
    "\n",
    "if predict_sentiment(sample_review):\n",
    "  print(\" Positive review\")\n",
    "\n",
    "else:\n",
    "  print(\" Negative review\")"
   ]
  },
  {
   "cell_type": "code",
   "execution_count": null,
   "metadata": {
    "colab": {
     "base_uri": "https://localhost:8080/"
    },
    "executionInfo": {
     "elapsed": 3,
     "status": "ok",
     "timestamp": 1695393921779,
     "user": {
      "displayName": "Mukesh Raj Kotha",
      "userId": "03884101089893064650"
     },
     "user_tz": -330
    },
    "id": "S9CHS2z9VobG",
    "outputId": "1a162ab5-f2c2-4eba-e721-ec1589238530"
   },
   "outputs": [
    {
     "name": "stdout",
     "output_type": "stream",
     "text": [
      "This is a Positive review\n"
     ]
    }
   ],
   "source": [
    "sample_review ='The food  was absolutely wonderful,from preparation to presentation, very pleasing.'\n",
    "\n",
    "if predict_sentiment(sample_review):\n",
    "  print(\"This is a Positive review\")\n",
    "\n",
    "else:\n",
    "  print(\"This is a Negative review\")"
   ]
  },
  {
   "cell_type": "code",
   "execution_count": null,
   "metadata": {
    "colab": {
     "base_uri": "https://localhost:8080/"
    },
    "executionInfo": {
     "elapsed": 9,
     "status": "ok",
     "timestamp": 1695393992139,
     "user": {
      "displayName": "Mukesh Raj Kotha",
      "userId": "03884101089893064650"
     },
     "user_tz": -330
    },
    "id": "yXZgupB3Vq-T",
    "outputId": "64ad4dd3-f410-4700-f1b5-bed4d35eaeb3"
   },
   "outputs": [
    {
     "name": "stdout",
     "output_type": "stream",
     "text": [
      "This is a Negative review\n"
     ]
    }
   ],
   "source": [
    "sample_review ='food averag'\n",
    "\n",
    "if predict_sentiment(sample_review):\n",
    "  print(\"This is a Positive review\")\n",
    "\n",
    "else:\n",
    "  print(\"This is a Negative review\")\n",
    "\n"
   ]
  },
  {
   "cell_type": "code",
   "execution_count": null,
   "metadata": {
    "id": "TU6FbVEFVrA5"
   },
   "outputs": [],
   "source": []
  }
 ],
 "metadata": {
  "colab": {
   "authorship_tag": "ABX9TyNMcFAbYHkNnSOlbX/5GEM0",
   "provenance": []
  },
  "kernelspec": {
   "display_name": "Python 3 (ipykernel)",
   "language": "python",
   "name": "python3"
  },
  "language_info": {
   "codemirror_mode": {
    "name": "ipython",
    "version": 3
   },
   "file_extension": ".py",
   "mimetype": "text/x-python",
   "name": "python",
   "nbconvert_exporter": "python",
   "pygments_lexer": "ipython3",
   "version": "3.11.5"
  }
 },
 "nbformat": 4,
 "nbformat_minor": 1
}
